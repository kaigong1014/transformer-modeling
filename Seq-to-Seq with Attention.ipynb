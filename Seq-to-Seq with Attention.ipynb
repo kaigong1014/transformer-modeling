{
 "cells": [
  {
   "cell_type": "code",
   "execution_count": 1,
   "id": "9b83a780",
   "metadata": {},
   "outputs": [],
   "source": [
    "import matplotlib.pyplot as plt"
   ]
  },
  {
   "cell_type": "code",
   "execution_count": 2,
   "id": "ae35d7d4",
   "metadata": {},
   "outputs": [],
   "source": [
    "%matplotlib inline"
   ]
  },
  {
   "cell_type": "code",
   "execution_count": 3,
   "id": "0df0eed2",
   "metadata": {},
   "outputs": [
    {
     "data": {
      "text/plain": [
       "[<matplotlib.lines.Line2D at 0x1e0f6ec4ee0>]"
      ]
     },
     "execution_count": 3,
     "metadata": {},
     "output_type": "execute_result"
    },
    {
     "data": {
      "image/png": "[encoded data removed]",
      "text/plain": [
       "<Figure size 432x288 with 1 Axes>"
      ]
     },
     "metadata": {
      "needs_background": "light"
     },
     "output_type": "display_data"
    }
   ],
   "source": [
    "plt.plot([1,2,3,4,5,6])"
   ]
  },
  {
   "cell_type": "code",
   "execution_count": 4,
   "id": "fc175d82",
   "metadata": {},
   "outputs": [],
   "source": [
    "import torch\n",
    "import random\n",
    "import torch.nn as nn\n",
    "import torch.nn.functional as F\n",
    "from torch.utils.data import TensorDataset, DataLoader"
   ]
  },
  {
   "cell_type": "code",
   "execution_count": 5,
   "id": "efc2aa9e",
   "metadata": {},
   "outputs": [],
   "source": [
    "import re \n",
    "import numpy as np\n",
    "import pandas as pd\n",
    "import string\n",
    "\n",
    "from pathlib import Path\n",
    "import unicodedata"
   ]
  },
  {
   "cell_type": "code",
   "execution_count": 6,
   "id": "25d8ae10",
   "metadata": {},
   "outputs": [],
   "source": [
    "import torchtext.data \n",
    "from torchtext.data.utils import get_tokenizer\n",
    "from torchtext.vocab import Vectors\n",
    "from torchtext.transforms import ToTensor\n"
   ]
  },
  {
   "cell_type": "code",
   "execution_count": null,
   "id": "8362c2f3",
   "metadata": {},
   "outputs": [],
   "source": []
  },
  {
   "cell_type": "code",
   "execution_count": 7,
   "id": "5ce9e544",
   "metadata": {},
   "outputs": [],
   "source": [
    "path = Path(r'C:/Users/niels/OneDrive/Probabilistic Programming 2022/data/datasets/giga_fren/giga-fren')"
   ]
  },
  {
   "cell_type": "code",
   "execution_count": 8,
   "id": "2939c0ce",
   "metadata": {},
   "outputs": [],
   "source": [
    "class Vocab:\n",
    "    def __init__(self, name):\n",
    "        self.name = name\n",
    "        self.stoi = {}\n",
    "        self.word2count = {}\n",
    "        self.itos = {0: \"<bos>\",1: \"<pad>\", 2:'<eos>',3:'<unk>'}\n",
    "        self.n_words = 4\n",
    "\n",
    "    def add_sentence(self, sentence):\n",
    "        for w in sentence.split(' '):\n",
    "            self.add_word(w)\n",
    "\n",
    "    def add_word(self, w):\n",
    "        if w not in self.stoi:\n",
    "            self.itos[self.n_words] = w\n",
    "            self.stoi = {w:i for (i,w) in self.itos.items()}\n",
    "            self.word2count[w] = 1 \n",
    "            self.n_words += 1\n",
    "        else:\n",
    "            self.word2count[w] += 1"
   ]
  },
  {
   "cell_type": "code",
   "execution_count": 9,
   "id": "a614cfaa",
   "metadata": {},
   "outputs": [],
   "source": [
    "df = pd.read_csv(path/'questions_easy.csv')"
   ]
  },
  {
   "cell_type": "code",
   "execution_count": 10,
   "id": "4f21cde2",
   "metadata": {},
   "outputs": [],
   "source": [
    "df = df.loc[df['en'].apply(lambda x: len(x.split(' '))<=15) & df['fr'].apply(lambda x: len(x.split(' '))<=15)]"
   ]
  },
  {
   "cell_type": "code",
   "execution_count": 11,
   "id": "a65747ec",
   "metadata": {},
   "outputs": [],
   "source": [
    "en_vocab = Vocab('en')\n",
    "fr_vocab = Vocab('fr')"
   ]
  },
  {
   "cell_type": "code",
   "execution_count": 12,
   "id": "0532beee",
   "metadata": {},
   "outputs": [],
   "source": [
    "for sent in df['en'].values:\n",
    "    en_vocab.add_sentence(sent)\n",
    "    \n",
    "for sent in df['fr'].values:\n",
    "    fr_vocab.add_sentence(sent)"
   ]
  },
  {
   "cell_type": "code",
   "execution_count": 13,
   "id": "e7ff46fa",
   "metadata": {},
   "outputs": [
    {
     "data": {
      "text/html": [
       "<div>\n",
       "<style scoped>\n",
       "    .dataframe tbody tr th:only-of-type {\n",
       "        vertical-align: middle;\n",
       "    }\n",
       "\n",
       "    .dataframe tbody tr th {\n",
       "        vertical-align: top;\n",
       "    }\n",
       "\n",
       "    .dataframe thead th {\n",
       "        text-align: right;\n",
       "    }\n",
       "</style>\n",
       "<table border=\"1\" class=\"dataframe\">\n",
       "  <thead>\n",
       "    <tr style=\"text-align: right;\">\n",
       "      <th></th>\n",
       "      <th>en</th>\n",
       "      <th>fr</th>\n",
       "    </tr>\n",
       "  </thead>\n",
       "  <tbody>\n",
       "    <tr>\n",
       "      <th>52318</th>\n",
       "      <td>where does all the fertilizer go ?</td>\n",
       "      <td>disponible en anglais seulement ou va tout l e...</td>\n",
       "    </tr>\n",
       "    <tr>\n",
       "      <th>52319</th>\n",
       "      <td>what happened to the winter issue ?</td>\n",
       "      <td>qu est il advenu du numero de l hiver ?</td>\n",
       "    </tr>\n",
       "    <tr>\n",
       "      <th>52323</th>\n",
       "      <td>what about languages other than the national l...</td>\n",
       "      <td>qu en est il des langues autres que la langue ...</td>\n",
       "    </tr>\n",
       "    <tr>\n",
       "      <th>52326</th>\n",
       "      <td>what are the mechanisms for increasing women s...</td>\n",
       "      <td>quels sont les mecanismes susceptibles d ameli...</td>\n",
       "    </tr>\n",
       "    <tr>\n",
       "      <th>52330</th>\n",
       "      <td>what s inside introduction to sti did you know ?</td>\n",
       "      <td>contenu introduction aux its saviez vous que ?</td>\n",
       "    </tr>\n",
       "  </tbody>\n",
       "</table>\n",
       "</div>"
      ],
      "text/plain": [
       "                                                      en  \\\n",
       "52318                 where does all the fertilizer go ?   \n",
       "52319                what happened to the winter issue ?   \n",
       "52323  what about languages other than the national l...   \n",
       "52326  what are the mechanisms for increasing women s...   \n",
       "52330   what s inside introduction to sti did you know ?   \n",
       "\n",
       "                                                      fr  \n",
       "52318  disponible en anglais seulement ou va tout l e...  \n",
       "52319            qu est il advenu du numero de l hiver ?  \n",
       "52323  qu en est il des langues autres que la langue ...  \n",
       "52326  quels sont les mecanismes susceptibles d ameli...  \n",
       "52330     contenu introduction aux its saviez vous que ?  "
      ]
     },
     "execution_count": 13,
     "metadata": {},
     "output_type": "execute_result"
    }
   ],
   "source": [
    "df.tail()"
   ]
  },
  {
   "cell_type": "code",
   "execution_count": null,
   "id": "066ab9bf",
   "metadata": {},
   "outputs": [],
   "source": []
  },
  {
   "cell_type": "code",
   "execution_count": 16,
   "id": "cc016a7a",
   "metadata": {},
   "outputs": [
    {
     "data": {
      "text/plain": [
       "[10, 9, 110, 733]"
      ]
     },
     "execution_count": 16,
     "metadata": {},
     "output_type": "execute_result"
    }
   ],
   "source": [
    "sentence = 'we are not sure'\n",
    "en_vocab.add_sentence(sentence)\n",
    "[en_vocab.stoi[s] for s in sentence.split(' ')]"
   ]
  },
  {
   "cell_type": "code",
   "execution_count": 17,
   "id": "cb6a3a5b",
   "metadata": {},
   "outputs": [
    {
     "data": {
      "text/plain": [
       "'we are not sure '"
      ]
     },
     "execution_count": 17,
     "metadata": {},
     "output_type": "execute_result"
    }
   ],
   "source": [
    "''.join([(en_vocab.itos[i] + ' ') for i in [10, 9, 110, 733]])"
   ]
  },
  {
   "cell_type": "code",
   "execution_count": 18,
   "id": "bb2608ad",
   "metadata": {},
   "outputs": [],
   "source": [
    "vects_fr = Vectors(r'./.vector_cache/wiki.fr.vec')\n",
    "vects_en = Vectors(r'./.vector_cache/wiki.en.vec')"
   ]
  },
  {
   "cell_type": "code",
   "execution_count": 19,
   "id": "8e4e208c",
   "metadata": {},
   "outputs": [],
   "source": [
    "en_emb = nn.Embedding(len(en_vocab.stoi),300,padding_idx = 1)\n",
    "wgts = en_emb.weight.data"
   ]
  },
  {
   "cell_type": "code",
   "execution_count": 20,
   "id": "be17f6e8",
   "metadata": {},
   "outputs": [
    {
     "name": "stderr",
     "output_type": "stream",
     "text": [
      "C:\\Users\\niels\\AppData\\Local\\Temp\\ipykernel_26900\\1004712414.py:3: UserWarning: To copy construct from a tensor, it is recommended to use sourceTensor.clone().detach() or sourceTensor.clone().detach().requires_grad_(True), rather than torch.tensor(sourceTensor).\n",
      "  try: wgts[i+3] = torch.tensor(vects_en.get_vecs_by_tokens(w))\n"
     ]
    }
   ],
   "source": [
    "miss = []\n",
    "for w,i in en_vocab.stoi.items():\n",
    "    try: wgts[i+3] = torch.tensor(vects_en.get_vecs_by_tokens(w))\n",
    "    except: miss.append(w)"
   ]
  },
  {
   "cell_type": "code",
   "execution_count": 21,
   "id": "f7f77a01",
   "metadata": {},
   "outputs": [],
   "source": [
    "fr_emb = nn.Embedding(len(fr_vocab.stoi),300,padding_idx=1).cuda()\n",
    "wgts = fr_emb.weight.data"
   ]
  },
  {
   "cell_type": "code",
   "execution_count": 22,
   "id": "61caceb5",
   "metadata": {},
   "outputs": [
    {
     "name": "stderr",
     "output_type": "stream",
     "text": [
      "C:\\Users\\niels\\AppData\\Local\\Temp\\ipykernel_26900\\1072943635.py:3: UserWarning: To copy construct from a tensor, it is recommended to use sourceTensor.clone().detach() or sourceTensor.clone().detach().requires_grad_(True), rather than torch.tensor(sourceTensor).\n",
      "  try:wgts[i+1] = torch.tensor(vects_fr.get_vecs_by_tokens(w))\n"
     ]
    }
   ],
   "source": [
    "miss = []\n",
    "for w,i in fr_vocab.stoi.items():\n",
    "    try:wgts[i+1] = torch.tensor(vects_fr.get_vecs_by_tokens(w))\n",
    "    except: miss.append(w)"
   ]
  },
  {
   "cell_type": "code",
   "execution_count": 23,
   "id": "c4c0ebe5",
   "metadata": {},
   "outputs": [],
   "source": [
    "en_tokenizer = get_tokenizer(None, language='en')\n",
    "fr_tokenizer = get_tokenizer(None, language='fr')"
   ]
  },
  {
   "cell_type": "code",
   "execution_count": 24,
   "id": "532e8095",
   "metadata": {},
   "outputs": [],
   "source": [
    "inputs = [[en_vocab.stoi[y] for y in en_tokenizer(x)] for x in df['en'].values]\n",
    "outputs = [[fr_vocab.stoi[y] for y in en_tokenizer(x)] for x in df['fr'].values]"
   ]
  },
  {
   "cell_type": "code",
   "execution_count": 25,
   "id": "b08c1985",
   "metadata": {},
   "outputs": [],
   "source": [
    "inputs = [[en_vocab.stoi[y] for y in en_tokenizer(x)] for x in df['en'].values]\n",
    "outputs = [[fr_vocab.stoi[y] for y in en_tokenizer(x)] for x in df['fr'].values]"
   ]
  },
  {
   "cell_type": "code",
   "execution_count": 26,
   "id": "a7741343",
   "metadata": {},
   "outputs": [],
   "source": [
    "t = ToTensor(padding_value=1)"
   ]
  },
  {
   "cell_type": "code",
   "execution_count": 27,
   "id": "c6a193cb",
   "metadata": {},
   "outputs": [],
   "source": [
    "inputs_tensor = t(inputs)\n",
    "outputs_tensor = t(outputs)"
   ]
  },
  {
   "cell_type": "code",
   "execution_count": 28,
   "id": "764b20ed",
   "metadata": {},
   "outputs": [
    {
     "data": {
      "text/plain": [
       "tensor([[   4,    5,    6,  ...,    1,    1,    1],\n",
       "        [   8,    9,   10,  ...,    1,    1,    1],\n",
       "        [  11,   12,   10,  ...,    1,    1,    1],\n",
       "        ...,\n",
       "        [   4,  226, 1696,  ...,    1,    1,    1],\n",
       "        [   4,    9,   19,  ...,    1,    1,    1],\n",
       "        [   4,   70, 5994,  ...,    1,    1,    1]])"
      ]
     },
     "execution_count": 28,
     "metadata": {},
     "output_type": "execute_result"
    }
   ],
   "source": [
    "inputs_tensor"
   ]
  },
  {
   "cell_type": "code",
   "execution_count": 29,
   "id": "2a3b3bf7",
   "metadata": {},
   "outputs": [],
   "source": [
    "with torch.no_grad():\n",
    "    for i in range(4):\n",
    "        fr_emb.weight[i] = i * torch.ones(300) \n",
    "        en_emb.weight[i] = i * torch.ones(300) "
   ]
  },
  {
   "cell_type": "code",
   "execution_count": 30,
   "id": "c960aafc",
   "metadata": {},
   "outputs": [],
   "source": [
    "ds = TensorDataset(inputs_tensor.cuda(),outputs_tensor.cuda())"
   ]
  },
  {
   "cell_type": "code",
   "execution_count": null,
   "id": "46c1badc",
   "metadata": {},
   "outputs": [],
   "source": []
  },
  {
   "cell_type": "code",
   "execution_count": 31,
   "id": "f1044847",
   "metadata": {},
   "outputs": [],
   "source": [
    "class Encoder(nn.Module):\n",
    "    def __init__(self,vocab,embed,hidden_size=300,n_layers=2,bidirectional=True,\n",
    "                dropout=0.5):\n",
    "        super().__init__()\n",
    "        self.vocab = vocab\n",
    "        self.hidden_size = hidden_size\n",
    "        self.n_layers = n_layers\n",
    "        self.embed = embed\n",
    "        self.emb_sz = self.embed.embedding_dim\n",
    "        self.gru = nn.GRU(self.emb_sz,hidden_size,num_layers=n_layers,bidirectional = True,dropout=0.25,batch_first=True)\n",
    "        \n",
    "    def forward(self,src,hidden=None):\n",
    "        bs = src.size(0)\n",
    "        \n",
    "        hidden = torch.zeros(2*self.n_layers,bs,self.hidden_size).cuda()\n",
    "        \n",
    "        emb = self.embed(src)\n",
    "        \n",
    "        out,h = self.gru(emb,hidden)\n",
    "\n",
    "        return out,h"
   ]
  },
  {
   "cell_type": "code",
   "execution_count": 32,
   "id": "44fc2a11",
   "metadata": {},
   "outputs": [],
   "source": [
    "class Decoder(nn.Module):\n",
    "    def __init__(self,vocab,embed,hidden_sz=300,n_layers=2,\n",
    "                dropout=0.5):\n",
    "        super().__init__()\n",
    "        self.vocab = vocab\n",
    "        self.vocab_sz = len(self.vocab.itos)\n",
    "        self.hidden_sz = hidden_sz\n",
    "        self.embed = embed\n",
    "        self.emb_sz = self.embed.embedding_dim\n",
    "        self.gru = nn.GRU(2*self.emb_sz + self.hidden_sz,self.hidden_sz,num_layers = n_layers,\n",
    "                          dropout=0.35,batch_first=True)\n",
    "\n",
    "        self.dec_to_word = nn.Linear(self.emb_sz,len(vocab.stoi))\n",
    "        self.dropout = nn.Dropout(0.35)\n",
    "        \n",
    "    def forward(self,dec_inp,dec_hid):\n",
    "\n",
    "        outp, h = self.gru(dec_inp,dec_hid)\n",
    "        outp = self.dec_to_word(self.dropout(outp))\n",
    "        return outp, h"
   ]
  },
  {
   "cell_type": "code",
   "execution_count": 33,
   "id": "10a82018",
   "metadata": {},
   "outputs": [],
   "source": [
    "class Attention(nn.Module):\n",
    "    \n",
    "    def __init__(self,enc,dec):\n",
    "        super().__init__()\n",
    "        self.enc = enc\n",
    "        self.dec = dec\n",
    "        \n",
    "        self.enc_emb_sz = enc.embed.embedding_dim\n",
    "        self.dec_emb_sz = dec.embed.embedding_dim\n",
    "        \n",
    "        \n",
    "        self.enc_att = nn.Linear(2 * enc.hidden_size,self.dec.emb_sz,bias=False)\n",
    "        self.dec_att = nn.Linear(self.dec_emb_sz,self.dec_emb_sz).cuda()\n",
    "        \n",
    "        self.V = nn.Parameter(torch.rand(self.enc.embed.embedding_dim,1))\n",
    "        \n",
    "    def forward(self,src,dec_out,dec_hid):\n",
    "        \n",
    "        enc_out,enc_hid = self.enc(src)\n",
    "        \n",
    "        enc_attn = self.enc_att(enc_out)\n",
    "        \n",
    "        u = nn.Tanh()(self.dec_att(dec_hid[-1]).unsqueeze(1) + enc_attn)\n",
    "        \n",
    "        attn_wgts = nn.Softmax(dim=1)(u@self.V)\n",
    "  \n",
    "        ctx = torch.bmm(attn_wgts.permute(0,2,1),enc_out)\n",
    "    \n",
    "\n",
    "        return torch.cat([ctx,self.dec.embed(dec_out)],dim=2)   \n"
   ]
  },
  {
   "cell_type": "code",
   "execution_count": 34,
   "id": "a2804d20",
   "metadata": {},
   "outputs": [],
   "source": [
    "class Seq2Seq_Attn(nn.Module):\n",
    "    def __init__(self,enc,dec):\n",
    "        super().__init__()\n",
    "        self.encoder = enc\n",
    "        self.decoder = dec\n",
    "        \n",
    "        self.attn = Attention(self.encoder,self.decoder)\n",
    "        \n",
    "        self.enc_emb_dim = 300\n",
    "        self.dec_emb_dim = 300\n",
    "        \n",
    "        self.enc_hid_to_dec_hid = nn.Linear(2*self.enc_emb_dim,self.dec_emb_dim)\n",
    "        \n",
    "     \n",
    "    def forward(self,src):\n",
    "        bs = src.size(0)\n",
    "        max_len = 15\n",
    "        \n",
    "       \n",
    "        vocab_size = self.decoder.vocab_sz \n",
    "        enc_out,enc_hid = self.encoder(src)\n",
    "        enc_hid = enc_hid.reshape(2,2,bs,self.enc_emb_dim).permute(1,2,0,3).contiguous()\n",
    "        enc_hid = enc_hid.reshape(2,bs,2*self.enc_emb_dim) \n",
    "        \n",
    "        dec_hid = self.enc_hid_to_dec_hid(enc_hid.cuda())  \n",
    "        dec_in = (torch.zeros(src.size(0),1,dtype=torch.long) + torch.LongTensor([[fr_vocab.stoi['<bos>']]])).cuda()\n",
    "        dec_inp = self.attn(src,dec_in,dec_hid)\n",
    "\n",
    "        outputs = []\n",
    "\n",
    "        for t in range(max_len):\n",
    "            \n",
    "            outp,dec_hid = self.decoder(dec_inp,dec_hid)\n",
    "\n",
    "            dec_out = outp.argmax(dim=2)\n",
    "            \n",
    "            outputs.append(outp)\n",
    "            \n",
    "            dec_inp = self.attn(src,dec_out,dec_hid)\n",
    "        \n",
    "        outputs = torch.stack(outputs)\n",
    "\n",
    "        return outputs"
   ]
  },
  {
   "cell_type": "code",
   "execution_count": 35,
   "id": "cb4942f5",
   "metadata": {},
   "outputs": [],
   "source": [
    "enc = Encoder(en_vocab,en_emb)\n",
    "dec = Decoder(fr_vocab,fr_emb)"
   ]
  },
  {
   "cell_type": "code",
   "execution_count": 36,
   "id": "d6cff8b4",
   "metadata": {},
   "outputs": [],
   "source": [
    "attn = Attention(enc,dec)"
   ]
  },
  {
   "cell_type": "code",
   "execution_count": 37,
   "id": "ce0561d7",
   "metadata": {},
   "outputs": [],
   "source": [
    "dl = DataLoader(ds,batch_size=64,shuffle=True)"
   ]
  },
  {
   "cell_type": "code",
   "execution_count": 38,
   "id": "ead46318",
   "metadata": {},
   "outputs": [],
   "source": [
    "def loss_fn(out,tgt):\n",
    "\n",
    "    return torch.stack([nn.CrossEntropyLoss()(out[i].squeeze(1),tgt.transpose(0,1)[i]) for i in range(src.size(1))]).mean()"
   ]
  },
  {
   "cell_type": "code",
   "execution_count": 39,
   "id": "d3723bd3",
   "metadata": {},
   "outputs": [],
   "source": [
    "from torch.optim import Adam"
   ]
  },
  {
   "cell_type": "code",
   "execution_count": 40,
   "id": "fd38409a",
   "metadata": {},
   "outputs": [],
   "source": [
    "model = Seq2Seq_Attn(enc,dec).cuda()"
   ]
  },
  {
   "cell_type": "code",
   "execution_count": 41,
   "id": "3232b9b8",
   "metadata": {},
   "outputs": [],
   "source": [
    "optim = Adam(model.parameters(),lr=0.001)"
   ]
  },
  {
   "cell_type": "code",
   "execution_count": 42,
   "id": "2638e73a",
   "metadata": {},
   "outputs": [],
   "source": [
    "import time"
   ]
  },
  {
   "cell_type": "code",
   "execution_count": 43,
   "id": "31308395",
   "metadata": {},
   "outputs": [
    {
     "name": "stdout",
     "output_type": "stream",
     "text": [
      "4.213664782975248\n",
      "3.747460622273519\n",
      "3.4842844723227495\n",
      "3.247146318534653\n",
      "3.029854217213309\n",
      "2.8320712757681656\n",
      "2.647874226351222\n",
      "2.4849279150515495\n",
      "2.3375251899936242\n",
      "2.2093461233222795\n",
      "2.094366144515321\n",
      "1.9993887463967481\n",
      "1.9135298457688201\n",
      "1.842682850337076\n",
      "1.773405378926062\n",
      "1.7158634391373504\n",
      "1.6612103499338298\n",
      "1.6196178347764614\n",
      "1.572646272396613\n",
      "1.5307709763863844\n",
      "1.4942952337379227\n",
      "1.4600243692150612\n",
      "1.429076309451562\n",
      "1.4002907894804568\n",
      "1.3749445062911438\n",
      "1.3504032472412506\n",
      "1.322916723059085\n",
      "1.302715771807406\n",
      "1.2886148309279344\n",
      "1.269483633978876\n",
      "1.2447293244912\n",
      "1.227020683521758\n",
      "1.2125843749074878\n",
      "1.2016656097775686\n",
      "1.1823544102514576\n",
      "1.167461035494319\n",
      "1.1564107699070625\n",
      "1.1481832218265342\n",
      "1.1425094916197116\n",
      "1.1221529396470198\n",
      "1.1140042995502373\n",
      "1.1013057776791846\n",
      "1.0954265355350015\n",
      "1.092104746790941\n",
      "1.0796228707907443\n",
      "1.0763613644712224\n",
      "1.062978756166028\n",
      "1.054047527784359\n",
      "1.0507031293686278\n",
      "1.0468197453045798\n",
      "1.0497809292789466\n",
      "1.0478577095115493\n",
      "1.0289749951657658\n",
      "1.0236677672572716\n",
      "1.0238501691294764\n",
      "1.0264212379674473\n",
      "1.0204879483301006\n",
      "1.0107101303136754\n",
      "1.0048727107619098\n",
      "1.0021186017704582\n",
      "1.004158839732111\n",
      "0.9989933348939328\n",
      "0.9856334028843634\n",
      "0.9955185899239576\n",
      "0.9936494396594232\n",
      "0.9847717477889832\n",
      "0.9830401225718196\n",
      "0.9936393275708257\n",
      "0.9842558449613834\n",
      "0.9865158257370223\n",
      "0.977188613005503\n",
      "0.9772825768131934\n",
      "0.9869901790114458\n",
      "0.9759188747691537\n",
      "0.9747904849623492\n",
      "0.9740447020102404\n",
      "0.991886857978836\n",
      "0.9845493677371514\n",
      "0.981941406598348\n",
      "0.9854276771554927\n",
      "0.9776410686517666\n",
      "0.9717486532862315\n",
      "0.9732073830987165\n",
      "0.9851304525862673\n",
      "0.9785047449513585\n",
      "0.9936434143555617\n",
      "0.991581707538483\n",
      "0.9797105592881848\n",
      "0.9841388406867753\n",
      "1.0013266912477459\n",
      "0.9963716304230833\n",
      "0.9898964103586422\n",
      "0.991722815288993\n",
      "1.001364831320064\n",
      "1.0056673554841153\n",
      "1.0052050704251745\n",
      "1.0045064795992809\n",
      "1.0131530459531528\n",
      "1.0206469588888858\n",
      "1.0171140356216126\n",
      "CPU times: total: 5h 38min 15s\n",
      "Wall time: 3h 55min 19s\n"
     ]
    }
   ],
   "source": [
    "%%time\n",
    "epochs = range(100)\n",
    "epoch_losses = []\n",
    "for e in epochs:\n",
    "    losses = []\n",
    "    for i, (src,tgt) in enumerate(dl):\n",
    "        \n",
    "        out = model(src)\n",
    "        \n",
    "        loss = loss_fn(out,tgt)\n",
    "        \n",
    "        optim.zero_grad()\n",
    "        \n",
    "        loss.backward()\n",
    "        \n",
    "        optim.step()\n",
    "        \n",
    "        losses.append(loss.item())\n",
    "        \n",
    "    epoch_loss = np.mean(losses)    \n",
    "    epoch_losses.append(epoch_loss)\n",
    "    print(epoch_loss)\n",
    "        "
   ]
  },
  {
   "cell_type": "code",
   "execution_count": 44,
   "id": "3662184c",
   "metadata": {},
   "outputs": [
    {
     "data": {
      "image/png": "[encoded data removed]",
      "text/plain": [
       "<Figure size 432x288 with 1 Axes>"
      ]
     },
     "metadata": {
      "needs_background": "light"
     },
     "output_type": "display_data"
    }
   ],
   "source": [
    "plt.plot(epoch_losses);"
   ]
  },
  {
   "cell_type": "code",
   "execution_count": 56,
   "id": "399344fb",
   "metadata": {},
   "outputs": [],
   "source": [
    "src,trg = ds[459]\n",
    "src,trg = src.unsqueeze(0),trg.unsqueeze(0)"
   ]
  },
  {
   "cell_type": "code",
   "execution_count": 59,
   "id": "e8236950",
   "metadata": {},
   "outputs": [
    {
     "data": {
      "text/plain": [
       "' what projects are eligible for cantex funding ? <pad> <pad> <pad> <pad> <pad> <pad> <pad>'"
      ]
     },
     "execution_count": 59,
     "metadata": {},
     "output_type": "execute_result"
    }
   ],
   "source": [
    "''.join(' '+en_vocab.itos[x] for x in src.squeeze(1).cpu().numpy()[0])"
   ]
  },
  {
   "cell_type": "code",
   "execution_count": 60,
   "id": "7a97f9db",
   "metadata": {},
   "outputs": [
    {
     "data": {
      "text/plain": [
       "' quels sont les projets admissibles au financement de cantex ? <pad> <pad> <pad> <pad> <pad>'"
      ]
     },
     "execution_count": 60,
     "metadata": {},
     "output_type": "execute_result"
    }
   ],
   "source": [
    "''.join(' '+fr_vocab.itos[x] for x in model(src).argmax(3).reshape(1,-1).squeeze(0).cpu().numpy())"
   ]
  },
  {
   "cell_type": "code",
   "execution_count": null,
   "id": "f052d632",
   "metadata": {},
   "outputs": [],
   "source": []
  }
 ],
 "metadata": {
  "kernelspec": {
   "display_name": "Python 3 (ipykernel)",
   "language": "python",
   "name": "python3"
  },
  "language_info": {
   "codemirror_mode": {
    "name": "ipython",
    "version": 3
   },
   "file_extension": ".py",
   "mimetype": "text/x-python",
   "name": "python",
   "nbconvert_exporter": "python",
   "pygments_lexer": "ipython3",
   "version": "3.9.12"
  }
 },
 "nbformat": 4,
 "nbformat_minor": 5
}

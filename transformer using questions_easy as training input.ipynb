{
 "cells": [
  {
   "cell_type": "code",
   "execution_count": 1,
   "id": "ef9a5eed",
   "metadata": {},
   "outputs": [],
   "source": [
    "import math\n",
    "import torchtext\n",
    "import torch\n",
    "import torch.nn as nn\n",
    "import torch.nn.functional as F\n",
    "from torchtext.data.utils import get_tokenizer\n",
    "from collections import Counter\n",
    "from torchtext.vocab import vocab,Vocab\n",
    "from torchtext.utils import download_from_url, extract_archive\n",
    "from torch.nn.utils.rnn import pad_sequence\n",
    "from torch.utils.data import DataLoader, TensorDataset\n",
    "from torchtext.transforms import ToTensor\n",
    "from torch import Tensor\n",
    "from torch.nn import TransformerEncoder,TransformerDecoder,TransformerEncoderLayer,TransformerDecoderLayer\n",
    "import io\n",
    "import time"
   ]
  },
  {
   "cell_type": "code",
   "execution_count": 2,
   "id": "eeffb092",
   "metadata": {},
   "outputs": [],
   "source": [
    "url_base = 'https://raw.githubusercontent.com/multi30k/dataset/master/data/task1/raw/'\n",
    "train_urls = ('train.fr.gz', 'train.en.gz')\n",
    "val_urls = ('val.de.gz', 'val.en.gz')\n",
    "test_urls = ('test_2016_flickr.de.gz', 'test_2016_flickr.en.gz')"
   ]
  },
  {
   "cell_type": "code",
   "execution_count": 3,
   "id": "0bd1721a",
   "metadata": {},
   "outputs": [],
   "source": [
    "train_filepaths = [extract_archive(download_from_url(url_base + url))[0] for url in train_urls]\n",
    "val_filepaths = [extract_archive(download_from_url(url_base + url))[0] for url in val_urls]\n",
    "test_filepaths = [extract_archive(download_from_url(url_base + url))[0] for url in test_urls]"
   ]
  },
  {
   "cell_type": "code",
   "execution_count": 4,
   "id": "61ddfe2b",
   "metadata": {},
   "outputs": [],
   "source": [
    "import spacy"
   ]
  },
  {
   "cell_type": "code",
   "execution_count": 5,
   "id": "d5fd7901",
   "metadata": {},
   "outputs": [],
   "source": [
    "import pandas as pd\n",
    "df = pd.read_csv('questions_easy.csv')\n",
    "fr_tokenizer = get_tokenizer('spacy', language='fr_core_news_sm')\n",
    "en_tokenizer = get_tokenizer('spacy', language='en_core_web_sm')"
   ]
  },
  {
   "cell_type": "code",
   "execution_count": 7,
   "id": "ab205b6c",
   "metadata": {},
   "outputs": [],
   "source": [
    "counter = Counter()\n",
    "for string_ in df['en']:\n",
    "    counter.update(en_tokenizer(string_))\n",
    "\n",
    "en_vocab =  vocab(counter,specials=['<unk>','<pad>','<bos>','<eos>'])\n",
    "\n",
    "counter = Counter()\n",
    "for string_ in df['fr']:\n",
    "    counter.update(fr_tokenizer(string_))\n",
    "\n",
    "fr_vocab =  vocab(counter,specials=['<unk>','<pad>','<bos>','<eos>'])\n",
    "\n",
    "fr_vocab.set_default_index(0)\n",
    "en_vocab.set_default_index(0)"
   ]
  },
  {
   "cell_type": "code",
   "execution_count": 8,
   "id": "fe7ab3fd",
   "metadata": {},
   "outputs": [],
   "source": [
    "def data_process(filepaths):\n",
    "    raw_de_iter = iter(io.open(filepaths[0],encoding='utf8'))\n",
    "    raw_en_iter = iter(io.open(filepaths[1],encoding='utf8'))\n",
    "    fr_data = []\n",
    "    en_data = []\n",
    "    for (raw_de,raw_en) in zip(raw_de_iter,raw_en_iter):\n",
    "            de_data.append([2]+de_vocab(de_tokenizer(raw_de.rstrip('n')))+[3])\n",
    "            en_data.append([2]+en_vocab(en_tokenizer(raw_en.rstrip('n')))+[3])\n",
    "    return  fr_data,en_data    "
   ]
  },
  {
   "cell_type": "code",
   "execution_count": 9,
   "id": "51cff9e6",
   "metadata": {},
   "outputs": [],
   "source": [
    "raw_fr_iter = iter(df['fr'])\n",
    "raw_en_iter = iter(df['en'])\n",
    "fr_data = []\n",
    "en_data = []\n",
    "for (raw_fr,raw_en) in zip(raw_fr_iter,raw_en_iter):\n",
    "        fr_data.append([2]+fr_vocab(fr_tokenizer(raw_fr.rstrip('n')))+[3])\n",
    "        en_data.append([2]+en_vocab(en_tokenizer(raw_en.rstrip('n')))+[3])\n",
    "train_data = fr_data, en_data\n",
    "val_data = data_process(val_filepaths)\n",
    "test_data = data_process(test_filepaths)"
   ]
  },
  {
   "cell_type": "code",
   "execution_count": 10,
   "id": "ab4cb81c",
   "metadata": {},
   "outputs": [],
   "source": [
    "to_tensor = ToTensor(padding_value=1)"
   ]
  },
  {
   "cell_type": "code",
   "execution_count": 11,
   "id": "c5e616e6",
   "metadata": {},
   "outputs": [],
   "source": [
    "fr_train_data = to_tensor(train_data[0])\n",
    "en_train_data = to_tensor(train_data[1])\n",
    "fr_val_data = to_tensor(val_data[0])\n",
    "en_val_data = to_tensor(val_data[1])\n",
    "fr_test_data = to_tensor(test_data[0])\n",
    "en_test_data = to_tensor(test_data[1])"
   ]
  },
  {
   "cell_type": "code",
   "execution_count": 12,
   "id": "72861771",
   "metadata": {},
   "outputs": [
    {
     "data": {
      "text/plain": [
       "torch.Size([29000, 47])"
      ]
     },
     "execution_count": 12,
     "metadata": {},
     "output_type": "execute_result"
    }
   ],
   "source": [
    "fr_train_data.size()"
   ]
  },
  {
   "cell_type": "code",
   "execution_count": 13,
   "id": "078ada46",
   "metadata": {},
   "outputs": [
    {
     "data": {
      "text/plain": [
       "torch.Size([29000, 44])"
      ]
     },
     "execution_count": 13,
     "metadata": {},
     "output_type": "execute_result"
    }
   ],
   "source": [
    "en_train_data.size()"
   ]
  },
  {
   "cell_type": "code",
   "execution_count": 14,
   "id": "5d5338a3",
   "metadata": {},
   "outputs": [],
   "source": [
    "train_ds = TensorDataset(fr_train_data,en_train_data)\n",
    "val_ds = TensorDataset(fr_val_data,en_val_data)\n",
    "test_ds = TensorDataset(fr_test_data,en_test_data)"
   ]
  },
  {
   "cell_type": "code",
   "execution_count": 15,
   "id": "23e2ac36",
   "metadata": {},
   "outputs": [],
   "source": [
    "bs = 128"
   ]
  },
  {
   "cell_type": "code",
   "execution_count": 16,
   "id": "d265c3b7",
   "metadata": {},
   "outputs": [],
   "source": [
    "train_dl = DataLoader(train_ds,batch_size=bs,shuffle=True)\n",
    "val_dl = DataLoader(val_ds,batch_size=bs,shuffle=True)\n",
    "test_dl = DataLoader(test_ds,batch_size=bs,shuffle=True)"
   ]
  },
  {
   "cell_type": "code",
   "execution_count": 17,
   "id": "c98ce9bf",
   "metadata": {},
   "outputs": [],
   "source": [
    "class Seq2SeqTransformer(nn.Module):\n",
    "    def __init__(self, num_encoder_layers: int, num_decoder_layers: int,\n",
    "                 emb_size: int, src_vocab_size: int, tgt_vocab_size: int,\n",
    "                 dim_feedforward:int = 512, dropout:float = 0.1):\n",
    "        super().__init__()\n",
    "        encoder_layer = TransformerEncoderLayer(d_model=emb_size, nhead=NHEAD,\n",
    "                                                dim_feedforward=dim_feedforward,batch_first=True)\n",
    "        self.transformer_encoder = TransformerEncoder(encoder_layer, num_layers=num_encoder_layers)\n",
    "        decoder_layer = TransformerDecoderLayer(d_model=emb_size, nhead=NHEAD,\n",
    "                                                dim_feedforward=dim_feedforward,batch_first=True)\n",
    "        self.transformer_decoder = TransformerDecoder(decoder_layer, num_layers=num_decoder_layers)\n",
    "        \n",
    "        self.generator = nn.Linear(emb_size, tgt_vocab_size)\n",
    "        self.src_tok_emb = TokenEmbedding(src_vocab_size, emb_size)\n",
    "        self.tgt_tok_emb = TokenEmbedding(tgt_vocab_size, emb_size)\n",
    "        self.positional_encoding = PositionalEncoding(emb_size, dropout=dropout)\n",
    "\n",
    "    def forward(self, src: Tensor, trg: Tensor, src_mask: Tensor,\n",
    "                tgt_mask: Tensor, src_padding_mask: Tensor,\n",
    "                tgt_padding_mask: Tensor, memory_key_padding_mask: Tensor):\n",
    "        src_emb = self.positional_encoding(self.src_tok_emb(src))\n",
    "        tgt_emb = self.positional_encoding(self.tgt_tok_emb(trg))\n",
    "        memory = self.transformer_encoder(src_emb, src_mask, src_padding_mask)\n",
    "        outs = self.transformer_decoder(tgt_emb, memory,tgt_mask, None,\n",
    "                                        tgt_padding_mask, memory_key_padding_mask)\n",
    "        return self.generator(outs)\n",
    "\n",
    "    def encode(self, src: Tensor, src_mask: Tensor):\n",
    "        return self.transformer_encoder(self.positional_encoding(\n",
    "                            self.src_tok_emb(src)), src_mask)\n",
    "    \n",
    "    def decode(self, tgt: Tensor, memory: Tensor, tgt_mask: Tensor):\n",
    "        return self.transformer_decoder(self.positional_encoding(\n",
    "                          self.tgt_tok_emb(tgt)), memory,\n",
    "                          tgt_mask)\n",
    "    \n",
    "class PositionalEncoding(nn.Module):\n",
    "    \n",
    "    def __init__(self,emb_size,dropout,max_len=5000):\n",
    "        super().__init__()\n",
    "        den = torch.exp(-torch.arange(0,emb_size,2) * math.log(10000)/emb_size)\n",
    "        pos = torch.arange(0,max_len).reshape(max_len,1)\n",
    "        pos_embedding = torch.zeros((max_len,emb_size))\n",
    "        pos_embedding[:,0::2] = torch.sin(pos * den)\n",
    "        pos_embedding[:,1::2] = torch.cos(pos * den)\n",
    "        pos_embedding = pos_embedding.unsqueeze(-2)\n",
    "        \n",
    "        self.dropout = nn.Dropout(dropout)\n",
    "        self.register_buffer('pos_embedding',pos_embedding)\n",
    "        \n",
    "    def forward(self,token_embedding):\n",
    "        return self.dropout(token_embedding + self.pos_embedding[:token_embedding.size(0),:])\n",
    "                                      \n",
    "                                      \n",
    "        \n",
    "        "
   ]
  },
  {
   "cell_type": "code",
   "execution_count": 18,
   "id": "4c982438",
   "metadata": {},
   "outputs": [],
   "source": [
    "class TokenEmbedding(nn.Module):\n",
    "    def __init__(self, vocab_size: int, emb_size):\n",
    "        super(TokenEmbedding, self).__init__()\n",
    "        self.embedding = nn.Embedding(vocab_size, emb_size)\n",
    "        self.emb_size = emb_size\n",
    "    def forward(self, tokens: Tensor):\n",
    "        return self.embedding(tokens.long()) * math.sqrt(self.emb_size)"
   ]
  },
  {
   "cell_type": "code",
   "execution_count": 19,
   "id": "4bb37122",
   "metadata": {},
   "outputs": [],
   "source": [
    "def generate_square_subsequent_mask(sz):\n",
    "    mask = (torch.triu(torch.ones((sz,sz),device='cuda')) == 1).transpose(0,1)\n",
    "    \n",
    "    mask = mask.float().masked_fill(mask==0,float('-inf')).masked_fill(mask==1,float(0.0))\n",
    "    return mask"
   ]
  },
  {
   "cell_type": "code",
   "execution_count": 20,
   "id": "0f367dc2",
   "metadata": {},
   "outputs": [],
   "source": [
    "def create_mask(src,tgt):\n",
    "    src_seq_len = src.shape[1]\n",
    "    tgt_seq_len = tgt.shape[1]\n",
    "    \n",
    "    tgt_mask = generate_square_subsequent_mask(tgt_seq_len).cuda()\n",
    "    src_mask = torch.zeros((src_seq_len,src_seq_len),device='cuda').type(torch.bool)\n",
    "    \n",
    "    src_padding_mask = (src == 1).cuda()\n",
    "    tgt_padding_mask = (tgt == 1).cuda()\n",
    "    \n",
    "    return src_mask, tgt_mask, src_padding_mask,tgt_padding_mask"
   ]
  },
  {
   "cell_type": "code",
   "execution_count": 21,
   "id": "0a861d45",
   "metadata": {},
   "outputs": [],
   "source": [
    "SRC_VOCAB_SIZE = len(fr_vocab)\n",
    "TGT_VOCAB_SIZE = len(en_vocab)\n",
    "EMB_SIZE = 64\n",
    "NHEAD = 8\n",
    "FFN_HID_DIM = 512\n",
    "BATCH_SIZE = 128\n",
    "NUM_ENCODER_LAYERS = 3\n",
    "NUM_DECODER_LAYERS = 3\n",
    "NUM_EPOCHS = 50\n",
    "DEVICE = torch.device('cuda:0' if torch.cuda.is_available() else 'cpu')"
   ]
  },
  {
   "cell_type": "code",
   "execution_count": 37,
   "id": "f2fef534",
   "metadata": {},
   "outputs": [],
   "source": [
    "transformer = Seq2SeqTransformer(NUM_ENCODER_LAYERS, NUM_DECODER_LAYERS,\n",
    "                                 EMB_SIZE, SRC_VOCAB_SIZE, TGT_VOCAB_SIZE,\n",
    "                                 FFN_HID_DIM)\n"
   ]
  },
  {
   "cell_type": "code",
   "execution_count": 38,
   "id": "06fa325e",
   "metadata": {},
   "outputs": [],
   "source": [
    "for p in transformer.parameters():\n",
    "    if p.dim() > 1:\n",
    "        nn.init.xavier_uniform_(p)"
   ]
  },
  {
   "cell_type": "code",
   "execution_count": 39,
   "id": "509b62cc",
   "metadata": {},
   "outputs": [],
   "source": [
    "transformer = transformer.cuda()"
   ]
  },
  {
   "cell_type": "code",
   "execution_count": 40,
   "id": "9865ac7a",
   "metadata": {},
   "outputs": [],
   "source": [
    "loss_fn = torch.nn.CrossEntropyLoss(ignore_index=1)\n",
    "\n",
    "optimizer = torch.optim.Adam(transformer.parameters(),lr=0.0001,betas=(0.9,0.98),eps=1e-9)"
   ]
  },
  {
   "cell_type": "code",
   "execution_count": 41,
   "id": "5fb4f880",
   "metadata": {},
   "outputs": [],
   "source": [
    "def train_epoch(model, train_dl, optimizer):\n",
    "    model.train()\n",
    "    losses = 0\n",
    "    for idx, (src, tgt) in enumerate(train_dl):\n",
    "        src = src.cuda()\n",
    "        tgt = tgt.cuda()\n",
    "        \n",
    "        tgt_input = tgt[:,:-1]\n",
    "\n",
    "        src_mask, tgt_mask, src_padding_mask, tgt_padding_mask = create_mask(src, tgt_input)\n",
    "\n",
    "        logits = model(src, tgt_input, src_mask,\n",
    "                tgt_mask, src_padding_mask,\n",
    "                tgt_padding_mask, src_padding_mask)\n",
    "\n",
    "        optimizer.zero_grad()\n",
    "\n",
    "        tgt_out = tgt[:, 1:]\n",
    "        loss = loss_fn(logits.reshape(-1, logits.shape[-1]), tgt_out.reshape(-1))\n",
    "        loss.backward()\n",
    "\n",
    "        optimizer.step()\n",
    "        losses += loss.item()\n",
    "\n",
    "    return losses / len(train_dl)\n",
    "\n",
    "        "
   ]
  },
  {
   "cell_type": "code",
   "execution_count": 42,
   "id": "a6685d63",
   "metadata": {},
   "outputs": [],
   "source": [
    "def evaluate(model,val_dl):\n",
    "    model.eval()\n",
    "    losses = 0\n",
    "    \n",
    "    for idx, (src,tgt) in enumerate(val_dl):\n",
    "        src = src.cuda()\n",
    "        tgt = tgt.cuda()\n",
    "        \n",
    "        tgt_input =tgt[:,:-1]\n",
    "        \n",
    "        src_mask, tgt_mask, src_padding_mask, tgt_padding_mask = create_mask(src, tgt_input)\n",
    "\n",
    "        logits = model(src, tgt_input, src_mask,\n",
    "                tgt_mask, src_padding_mask,\n",
    "                tgt_padding_mask, src_padding_mask)\n",
    "\n",
    "        optimizer.zero_grad()\n",
    "\n",
    "        tgt_out = tgt[:,1:]\n",
    "        \n",
    "        loss = loss_fn(logits.reshape(-1, logits.shape[-1]), tgt_out.reshape(-1))\n",
    "        \n",
    "        losses += loss.item()\n",
    "        \n",
    "    return losses/len(val_dl)"
   ]
  },
  {
   "cell_type": "code",
   "execution_count": 43,
   "id": "93cc0e2e",
   "metadata": {},
   "outputs": [
    {
     "name": "stdout",
     "output_type": "stream",
     "text": [
      "Epoch: 0, Train loss: 5.233, Val loss: 3.972, Epoch time = 70.432s \n",
      "Epoch: 1, Train loss: 3.719, Val loss: 3.433, Epoch time = 73.081s \n",
      "Epoch: 2, Train loss: 3.308, Val loss: 3.150, Epoch time = 74.110s \n",
      "Epoch: 3, Train loss: 3.018, Val loss: 2.931, Epoch time = 73.863s \n",
      "Epoch: 4, Train loss: 2.764, Val loss: 2.727, Epoch time = 75.674s \n",
      "Epoch: 5, Train loss: 2.534, Val loss: 2.559, Epoch time = 75.814s \n",
      "Epoch: 6, Train loss: 2.341, Val loss: 2.428, Epoch time = 77.545s \n",
      "Epoch: 7, Train loss: 2.176, Val loss: 2.332, Epoch time = 78.984s \n",
      "Epoch: 8, Train loss: 2.034, Val loss: 2.266, Epoch time = 79.218s \n",
      "Epoch: 9, Train loss: 1.906, Val loss: 2.193, Epoch time = 81.111s \n",
      "Epoch: 10, Train loss: 1.793, Val loss: 2.170, Epoch time = 81.286s \n",
      "Epoch: 11, Train loss: 1.691, Val loss: 2.134, Epoch time = 80.992s \n",
      "Epoch: 12, Train loss: 1.596, Val loss: 2.094, Epoch time = 80.932s \n",
      "Epoch: 13, Train loss: 1.509, Val loss: 2.099, Epoch time = 81.206s \n",
      "Epoch: 14, Train loss: 1.428, Val loss: 2.061, Epoch time = 81.153s \n",
      "Epoch: 15, Train loss: 1.353, Val loss: 2.046, Epoch time = 82.154s \n",
      "Epoch: 16, Train loss: 1.282, Val loss: 2.039, Epoch time = 81.877s \n",
      "Epoch: 17, Train loss: 1.216, Val loss: 2.049, Epoch time = 81.736s \n",
      "Epoch: 18, Train loss: 1.154, Val loss: 2.046, Epoch time = 81.477s \n"
     ]
    }
   ],
   "source": [
    "for epoch in range(19):\n",
    "    start_time = time.time()\n",
    "    train_loss = train_epoch(transformer,train_dl,optimizer)\n",
    "    \n",
    "    end_time = time.time()\n",
    "    \n",
    "    val_loss = evaluate(transformer,val_dl)\n",
    "    \n",
    "    print(f'Epoch: {epoch}, Train loss: {train_loss:.3f}, Val loss: {val_loss:.3f}, '\n",
    "         f'Epoch time = {(end_time - start_time):.3f}s ')"
   ]
  },
  {
   "cell_type": "code",
   "execution_count": 29,
   "id": "56dafebb",
   "metadata": {},
   "outputs": [],
   "source": [
    "def greedy_decode(model, src, src_mask, max_len, start_symbol):\n",
    "    src = src.cuda()\n",
    "    src_mask = src_mask.cuda()\n",
    "    memory = model.encode(src, src_mask)\n",
    "    ys = torch.ones(1, 1).fill_(2).type(torch.long).cuda()\n",
    "    for i in range(max_len-1):\n",
    "\n",
    "        memory = memory.cuda()\n",
    "        memory_mask = torch.zeros(ys.shape[1], memory.shape[1]).cuda().type(torch.bool)\n",
    "        tgt_mask = (generate_square_subsequent_mask(ys.size(1))\n",
    "                                    .type(torch.bool)).cuda()\n",
    "        out = model.decode(ys, memory, tgt_mask).squeeze(0)[-1]\n",
    "        prob = model.generator(out)\n",
    "        next_word = prob.argmax()\n",
    "        next_word = next_word.item()\n",
    "\n",
    "        ys = torch.cat([ys,\n",
    "                        torch.ones(1, 1).type_as(src.data).fill_(next_word)], dim=1)\n",
    "        if next_word == 3:\n",
    "              break\n",
    "    return ys\n",
    "\n",
    "\n",
    "def translate(model, src, src_vocab, tgt_vocab, src_tokenizer):\n",
    "    model.eval()\n",
    "    tokens = [2]+de_vocab(de_tokenizer(src))+[3]\n",
    "    num_tokens = len(tokens)\n",
    "    src = (torch.LongTensor(tokens).reshape(1,num_tokens))\n",
    "    src_mask = (torch.zeros(num_tokens, num_tokens)).type(torch.bool)\n",
    "    tgt_tokens = greedy_decode(model, src, src_mask, max_len=num_tokens + 5, start_symbol=2).flatten()\n",
    "    return \" \".join([tgt_vocab.get_itos()[tok] for tok in tgt_tokens]).replace(\"<bos>\", \"\").replace(\"<eos>\", \"\")"
   ]
  },
  {
   "cell_type": "code",
   "execution_count": 45,
   "id": "e1cfa32a",
   "metadata": {
    "scrolled": true
   },
   "outputs": [
    {
     "name": "stdout",
     "output_type": "stream",
     "text": [
      " A group of people standing in front of an airport . \n",
      " \n"
     ]
    }
   ],
   "source": [
    "output = translate(transformer, \"Eine Gruppe von Menschen steht vor einem Flughafen .\", de_vocab, en_vocab, de_tokenizer)\n",
    "print(output)"
   ]
  },
  {
   "cell_type": "code",
   "execution_count": null,
   "id": "02970fe8",
   "metadata": {},
   "outputs": [],
   "source": []
  }
 ],
 "metadata": {
  "kernelspec": {
   "display_name": "Python 3 (ipykernel)",
   "language": "python",
   "name": "python3"
  },
  "language_info": {
   "codemirror_mode": {
    "name": "ipython",
    "version": 3
   },
   "file_extension": ".py",
   "mimetype": "text/x-python",
   "name": "python",
   "nbconvert_exporter": "python",
   "pygments_lexer": "ipython3",
   "version": "3.9.12"
  }
 },
 "nbformat": 4,
 "nbformat_minor": 5
}
